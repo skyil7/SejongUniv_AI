{
  "nbformat": 4,
  "nbformat_minor": 0,
  "metadata": {
    "colab": {
      "name": "Gradient Descent By hand.ipynb",
      "provenance": [],
      "authorship_tag": "ABX9TyPPX/sN+F7fHFA1lMsN+5hE",
      "include_colab_link": true
    },
    "kernelspec": {
      "name": "python3",
      "display_name": "Python 3"
    }
  },
  "cells": [
    {
      "cell_type": "markdown",
      "metadata": {
        "id": "view-in-github",
        "colab_type": "text"
      },
      "source": [
        "<a href=\"https://colab.research.google.com/github/skyil7/SejongUniv_AI/blob/master/2.Gradient_Descent_By_Hand.ipynb\" target=\"_parent\"><img src=\"https://colab.research.google.com/assets/colab-badge.svg\" alt=\"Open In Colab\"/></a>"
      ]
    },
    {
      "cell_type": "markdown",
      "metadata": {
        "id": "oezYvwD-B9sG",
        "colab_type": "text"
      },
      "source": [
        "# Minimizing Cost"
      ]
    },
    {
      "cell_type": "markdown",
      "metadata": {
        "id": "iFCr_HVaCCHM",
        "colab_type": "text"
      },
      "source": [
        "## Imports"
      ]
    },
    {
      "cell_type": "code",
      "metadata": {
        "id": "8iGkmJVdCKQL",
        "colab_type": "code",
        "colab": {}
      },
      "source": [
        "import matplotlib.pyplot as plt\n",
        "import numpy as np\n",
        "import torch\n",
        "import torch.optim as optim"
      ],
      "execution_count": 0,
      "outputs": []
    },
    {
      "cell_type": "code",
      "metadata": {
        "id": "ehCXtiCmCQk4",
        "colab_type": "code",
        "colab": {
          "base_uri": "https://localhost:8080/",
          "height": 36
        },
        "outputId": "5328af45-31ac-4e80-c95d-2aa5dc4c7657"
      },
      "source": [
        "torch.manual_seed(1)"
      ],
      "execution_count": 2,
      "outputs": [
        {
          "output_type": "execute_result",
          "data": {
            "text/plain": [
              "<torch._C.Generator at 0x7fc2411f9590>"
            ]
          },
          "metadata": {
            "tags": []
          },
          "execution_count": 2
        }
      ]
    },
    {
      "cell_type": "markdown",
      "metadata": {
        "id": "C8C5vJ3TCU2h",
        "colab_type": "text"
      },
      "source": [
        "## Data\n",
        "아래의 조건을 충족하는 Fake Data를 만들어 사용\n",
        "$$ y(x) = 2x$$"
      ]
    },
    {
      "cell_type": "code",
      "metadata": {
        "id": "byRRUk_9CkhA",
        "colab_type": "code",
        "colab": {}
      },
      "source": [
        "x_train = torch.FloatTensor([[1], [2], [3]])\n",
        "y_train = torch.FloatTensor([[2], [4], [6]])"
      ],
      "execution_count": 0,
      "outputs": []
    },
    {
      "cell_type": "code",
      "metadata": {
        "id": "4LM4I37iCk9c",
        "colab_type": "code",
        "colab": {
          "base_uri": "https://localhost:8080/",
          "height": 284
        },
        "outputId": "0aeb565a-2d70-42fb-90e3-a3360b3c9a07"
      },
      "source": [
        "# Data\n",
        "plt.scatter(x_train, y_train)\n",
        "# Best-fit line\n",
        "xs = np.linspace(1, 3, 1000)    # 1에서 3 사이를 1000으로 나눈 선형 증가 수열\n",
        "plt.plot(xs, 2*xs)"
      ],
      "execution_count": 4,
      "outputs": [
        {
          "output_type": "execute_result",
          "data": {
            "text/plain": [
              "[<matplotlib.lines.Line2D at 0x7fc240ce3630>]"
            ]
          },
          "metadata": {
            "tags": []
          },
          "execution_count": 4
        },
        {
          "output_type": "display_data",
          "data": {
            "image/png": "[encoded data removed]",
            "text/plain": [
              "<Figure size 432x288 with 1 Axes>"
            ]
          },
          "metadata": {
            "tags": [],
            "needs_background": "light"
          }
        }
      ]
    },
    {
      "cell_type": "markdown",
      "metadata": {
        "id": "NmRPTisGDlxH",
        "colab_type": "text"
      },
      "source": [
        "## Cost by W\n",
        "$$ H(x) = Wx$$\n",
        "$$ cost(W, b) = \\frac{1}{m} \\sum^m_{i=1} \\left( H(x^{(i)}) - y^{(i)} \\right)^2$$"
      ]
    },
    {
      "cell_type": "code",
      "metadata": {
        "id": "HFbYEor-DhpX",
        "colab_type": "code",
        "colab": {}
      },
      "source": [
        "# -5와 7 사이를 1000 등분해서 w_list 생성\n",
        "W_l = np.linspace(-5,7,1000)\n",
        "# cost list\n",
        "cost_l = []\n",
        "for W in W_l:\n",
        "    hypothesis = W * x_train\n",
        "    cost = torch.mean((hypothesis - y_train) ** 2)\n",
        "    cost_l.append(cost.item())"
      ],
      "execution_count": 0,
      "outputs": []
    },
    {
      "cell_type": "code",
      "metadata": {
        "id": "OTq7nJwlEGfD",
        "colab_type": "code",
        "colab": {
          "base_uri": "https://localhost:8080/",
          "height": 281
        },
        "outputId": "d3e53da0-205f-4964-e2fe-1bfcee08341f"
      },
      "source": [
        "plt.plot(W_l, cost_l)\n",
        "plt.xlabel('$W$')\n",
        "plt.ylabel('Cost')\n",
        "plt.show()"
      ],
      "execution_count": 6,
      "outputs": [
        {
          "output_type": "display_data",
          "data": {
            "image/png": "[encoded data removed]",
            "text/plain": [
              "<Figure size 432x288 with 1 Axes>"
            ]
          },
          "metadata": {
            "tags": [],
            "needs_background": "light"
          }
        }
      ]
    },
    {
      "cell_type": "code",
      "metadata": {
        "id": "wTl9GyVhEQCT",
        "colab_type": "code",
        "colab": {
          "base_uri": "https://localhost:8080/",
          "height": 36
        },
        "outputId": "9ce8f201-bccc-44da-fcd2-d0b037cd52d1"
      },
      "source": [
        "print(W_l[np.argmin(cost_l)])"
      ],
      "execution_count": 7,
      "outputs": [
        {
          "output_type": "stream",
          "text": [
            "2.003003003003003\n"
          ],
          "name": "stdout"
        }
      ]
    },
    {
      "cell_type": "markdown",
      "metadata": {
        "id": "gVRXmGxtFZUv",
        "colab_type": "text"
      },
      "source": [
        "## Gradient Descent by Hand\n",
        "$$ cost(W, b) = \\frac{1}{m} \\sum^m_{i=1} \\left( H(x^{(i)}) - y^{(i)} \\right)^2$$"
      ]
    },
    {
      "cell_type": "markdown",
      "metadata": {
        "id": "VoMytXpMzWUQ",
        "colab_type": "text"
      },
      "source": [
        "$$ \\nabla W = \\frac{\\partial cost}{\\partial W} = \\frac{2}{m} \\sum^m_{i=1} \\left( Wx^{(i)} - y^{(i)} \\right)x^{(i)} $$"
      ]
    },
    {
      "cell_type": "code",
      "metadata": {
        "id": "TrzmVCTRFcaC",
        "colab_type": "code",
        "colab": {}
      },
      "source": [
        "W = 0"
      ],
      "execution_count": 0,
      "outputs": []
    },
    {
      "cell_type": "code",
      "metadata": {
        "id": "LnOCUH2-GIbn",
        "colab_type": "code",
        "colab": {
          "base_uri": "https://localhost:8080/",
          "height": 36
        },
        "outputId": "ef7dd857-7ea5-4f89-b5fe-1c50b3d24c11"
      },
      "source": [
        "gradient = torch.sum((W * x_train - y_train) * x_train)\n",
        "print(gradient)"
      ],
      "execution_count": 9,
      "outputs": [
        {
          "output_type": "stream",
          "text": [
            "tensor(-28.)\n"
          ],
          "name": "stdout"
        }
      ]
    },
    {
      "cell_type": "markdown",
      "metadata": {
        "id": "j-XKIrdMzWUU",
        "colab_type": "text"
      },
      "source": [
        "$$ W := W - \\alpha \\nabla W $$"
      ]
    },
    {
      "cell_type": "code",
      "metadata": {
        "id": "yRKT5X0qGiJb",
        "colab_type": "code",
        "colab": {
          "base_uri": "https://localhost:8080/",
          "height": 36
        },
        "outputId": "e1e4207c-e44f-47e0-cbf6-e601f96f7f1a"
      },
      "source": [
        "lr = 0.1\n",
        "W -= lr * gradient\n",
        "print(W)"
      ],
      "execution_count": 10,
      "outputs": [
        {
          "output_type": "stream",
          "text": [
            "tensor(2.8000)\n"
          ],
          "name": "stdout"
        }
      ]
    },
    {
      "cell_type": "markdown",
      "metadata": {
        "id": "yA2l7nBZGzer",
        "colab_type": "text"
      },
      "source": [
        "## Training"
      ]
    },
    {
      "cell_type": "code",
      "metadata": {
        "id": "usgYPZDwzWUX",
        "colab_type": "code",
        "outputId": "aef6b292-9190-4a00-a2f7-91b12e9c9dd7",
        "colab": {
          "base_uri": "https://localhost:8080/",
          "height": 223
        }
      },
      "source": [
        "# 데이터\n",
        "x_train = torch.FloatTensor([[1], [2], [3]])\n",
        "y_train = torch.FloatTensor([[2], [4], [6]])\n",
        "# 모델 초기화\n",
        "W = torch.zeros(1)\n",
        "# learning rate 설정\n",
        "lr = 0.1\n",
        "\n",
        "nb_epochs = 10\n",
        "for epoch in range(nb_epochs + 1):\n",
        "    \n",
        "    # H(x) 계산\n",
        "    hypothesis = x_train * W\n",
        "    \n",
        "    # cost gradient 계산\n",
        "    cost = torch.mean((hypothesis - y_train) ** 2)\n",
        "    gradient = torch.sum((W * x_train - y_train) * x_train)\n",
        "\n",
        "    print('Epoch {:4d}/{} W: {:.3f}, Cost: {:.6f}'.format(\n",
        "        epoch, nb_epochs, W.item(), cost.item()\n",
        "    ))\n",
        "\n",
        "    # cost gradient로 H(x) 개선\n",
        "    W -= lr * gradient"
      ],
      "execution_count": 11,
      "outputs": [
        {
          "output_type": "stream",
          "text": [
            "Epoch    0/10 W: 0.000, Cost: 18.666666\n",
            "Epoch    1/10 W: 2.800, Cost: 2.986666\n",
            "Epoch    2/10 W: 1.680, Cost: 0.477867\n",
            "Epoch    3/10 W: 2.128, Cost: 0.076459\n",
            "Epoch    4/10 W: 1.949, Cost: 0.012233\n",
            "Epoch    5/10 W: 2.020, Cost: 0.001957\n",
            "Epoch    6/10 W: 1.992, Cost: 0.000313\n",
            "Epoch    7/10 W: 2.003, Cost: 0.000050\n",
            "Epoch    8/10 W: 1.999, Cost: 0.000008\n",
            "Epoch    9/10 W: 2.001, Cost: 0.000001\n",
            "Epoch   10/10 W: 2.000, Cost: 0.000000\n"
          ],
          "name": "stdout"
        }
      ]
    }
  ]
}
