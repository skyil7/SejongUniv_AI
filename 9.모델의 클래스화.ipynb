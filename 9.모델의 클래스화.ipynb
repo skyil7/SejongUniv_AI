{
  "nbformat": 4,
  "nbformat_minor": 0,
  "metadata": {
    "colab": {
      "name": "9.모델의 클래스화.ipynb",
      "provenance": [],
      "authorship_tag": "ABX9TyPnICrw5NFCQ2/wl/VWlz6f",
      "include_colab_link": true
    },
    "kernelspec": {
      "name": "python3",
      "display_name": "Python 3"
    },
    "accelerator": "GPU"
  },
  "cells": [
    {
      "cell_type": "markdown",
      "metadata": {
        "id": "view-in-github",
        "colab_type": "text"
      },
      "source": [
        "<a href=\"https://colab.research.google.com/github/skyil7/SejongUniv_AI/blob/master/9.%EB%AA%A8%EB%8D%B8%EC%9D%98%20%ED%81%B4%EB%9E%98%EC%8A%A4%ED%99%94.ipynb\" target=\"_parent\"><img src=\"https://colab.research.google.com/assets/colab-badge.svg\" alt=\"Open In Colab\"/></a>"
      ]
    },
    {
      "cell_type": "code",
      "metadata": {
        "id": "qAx4YR0eSlx1",
        "colab_type": "code",
        "colab": {}
      },
      "source": [
        "import torch\n",
        "import torchvision.datasets as data\n",
        "import torchvision.transforms as transforms\n",
        "import random"
      ],
      "execution_count": 1,
      "outputs": []
    },
    {
      "cell_type": "code",
      "metadata": {
        "id": "Moxwo8QySt-0",
        "colab_type": "code",
        "colab": {}
      },
      "source": [
        "device = 'cuda' if torch.cuda.is_available() else 'cpu'\n",
        "\n",
        "random.seed(777)\n",
        "torch.manual_seed(777)\n",
        "if device == 'cuda':\n",
        "  torch.cuda.manual_seed_all(777)"
      ],
      "execution_count": 2,
      "outputs": []
    },
    {
      "cell_type": "code",
      "metadata": {
        "id": "YV9hFxsjS0-D",
        "colab_type": "code",
        "colab": {}
      },
      "source": [
        "mnist_train = data.MNIST(root='data/',\n",
        "                          train=True,\n",
        "                          transform=transforms.ToTensor(),\n",
        "                          download=True)\n",
        "mnist_test = data.MNIST(root='data/',\n",
        "                         train=False,\n",
        "                         transform=transforms.ToTensor(),\n",
        "                         download=True)"
      ],
      "execution_count": null,
      "outputs": []
    },
    {
      "cell_type": "code",
      "metadata": {
        "id": "P3WsYtFyS1QT",
        "colab_type": "code",
        "colab": {}
      },
      "source": [
        "data_loader = torch.utils.data.DataLoader(dataset=mnist_train,\n",
        "                         batch_size=100,\n",
        "                         shuffle=True,\n",
        "                         drop_last=True) # Drop Last Batch"
      ],
      "execution_count": 6,
      "outputs": []
    },
    {
      "cell_type": "markdown",
      "metadata": {
        "id": "aBo1Sfg0THIX",
        "colab_type": "text"
      },
      "source": [
        "# DNN 모델의 클래스화\n",
        "- `torch.nn.Module`을 상속하여 모델 클래스 생성\n",
        "- `forward` 함수 오버라이드"
      ]
    },
    {
      "cell_type": "code",
      "metadata": {
        "id": "UryCDdv2TAAV",
        "colab_type": "code",
        "colab": {}
      },
      "source": [
        "class DNN(torch.nn.Module):\n",
        "  def __init__(self):\n",
        "    super(DNN,self).__init__() # 이부분 빼먹기 쉬운데 조심할 것\n",
        "\n",
        "    # 주의) self 빼먹지 말자!\n",
        "    self.linear1 = torch.nn.Linear((28*28),512,bias=True)\n",
        "    self.linear2 = torch.nn.Linear(512,10,bias=True)\n",
        "    self.relu = torch.nn.ReLU()\n",
        "\n",
        "    torch.nn.init.xavier_uniform_(self.linear1.weight)\n",
        "    torch.nn.init.xavier_uniform_(self.linear2.weight)\n",
        "\n",
        "  def forward(self,x):\n",
        "    out = self.linear1(x)\n",
        "    out = self.relu(out)\n",
        "    out = self.linear2(out)\n",
        "    return out\n"
      ],
      "execution_count": 9,
      "outputs": []
    },
    {
      "cell_type": "code",
      "metadata": {
        "id": "8hnY0FRsTr3Y",
        "colab_type": "code",
        "colab": {}
      },
      "source": [
        "model = DNN().to(device)\n",
        "cost = torch.nn.CrossEntropyLoss().to(device) # Built in Softmax Function\n",
        "optimizer = torch.optim.Adam(model.parameters(), lr=0.01)"
      ],
      "execution_count": 12,
      "outputs": []
    },
    {
      "cell_type": "code",
      "metadata": {
        "id": "9T3QXA6qT4vo",
        "colab_type": "code",
        "colab": {
          "base_uri": "https://localhost:8080/",
          "height": 111
        },
        "outputId": "a9aa8960-aba5-48fe-b43a-61d8afd979c7"
      },
      "source": [
        "epochs = 20\n",
        "total_batch = len(data_loader)\n",
        "for epoch in range(1, epochs+1):\n",
        "    avg_cost = 0\n",
        "\n",
        "    for x, y in data_loader:    # batch loop\n",
        "        x = x.view(-1, 28*28).to(device)\n",
        "        y = y.to(device)\n",
        "\n",
        "        optimizer.zero_grad()\n",
        "        hypothesis = model(x)\n",
        "        cost_val = cost(hypothesis, y)\n",
        "        cost_val.backward()\n",
        "        optimizer.step()\n",
        "\n",
        "        avg_cost += cost_val\n",
        "    \n",
        "    avg_cost /= total_batch\n",
        "\n",
        "    if epoch % 5 == 1 or epoch == epochs:\n",
        "        print('Epoch {:4d}/{} Cost: {:.6f}'.format(epoch, epochs, avg_cost.item()))"
      ],
      "execution_count": 13,
      "outputs": [
        {
          "output_type": "stream",
          "text": [
            "Epoch    1/20 Cost: 0.222450\n",
            "Epoch    6/20 Cost: 0.072562\n",
            "Epoch   11/20 Cost: 0.046865\n",
            "Epoch   16/20 Cost: 0.039778\n",
            "Epoch   20/20 Cost: 0.041277\n"
          ],
          "name": "stdout"
        }
      ]
    },
    {
      "cell_type": "code",
      "metadata": {
        "id": "XuW_4TtlUKO8",
        "colab_type": "code",
        "colab": {
          "base_uri": "https://localhost:8080/",
          "height": 396
        },
        "outputId": "a4fc5bae-ed04-4d0c-b17b-267bbc57cf53"
      },
      "source": [
        "import matplotlib.pyplot as plt\n",
        "\n",
        "with torch.no_grad(): # Don't Calculate Gradient\n",
        "    x_test = mnist_test.test_data.view(-1, 28 * 28).float().to(device)\n",
        "    y_test = mnist_test.test_labels.to(device)\n",
        "\n",
        "    pred = model(x_test)\n",
        "    correct_pred = torch.argmax(pred, 1) == y_test\n",
        "    acc = correct_pred.float().mean()\n",
        "    print('Accuracy:',acc.item())\n",
        "\n",
        "    r = random.randint(0, len(mnist_test) - 1)\n",
        "    X_single_data = mnist_test.test_data[r].view(-1, 28 * 28).float().to(device)\n",
        "    Y_single_data = mnist_test.test_labels[r].to(device)\n",
        "\n",
        "    print('Label: ', Y_single_data.item())\n",
        "    single_prediction = model(X_single_data)\n",
        "    print('Prediction: ', torch.argmax(single_prediction, 1).item())\n",
        "\n",
        "    plt.imshow(mnist_test.test_data[r:r + 1].view(28, 28), cmap='Greys', interpolation='nearest')\n",
        "    plt.show()"
      ],
      "execution_count": 18,
      "outputs": [
        {
          "output_type": "stream",
          "text": [
            "Accuracy: 0.9693999886512756\n",
            "Label:  3\n",
            "Prediction:  3\n"
          ],
          "name": "stdout"
        },
        {
          "output_type": "stream",
          "text": [
            "/usr/local/lib/python3.6/dist-packages/torchvision/datasets/mnist.py:60: UserWarning: test_data has been renamed data\n",
            "  warnings.warn(\"test_data has been renamed data\")\n",
            "/usr/local/lib/python3.6/dist-packages/torchvision/datasets/mnist.py:50: UserWarning: test_labels has been renamed targets\n",
            "  warnings.warn(\"test_labels has been renamed targets\")\n"
          ],
          "name": "stderr"
        },
        {
          "output_type": "display_data",
          "data": {
            "image/png": "[encoded data removed]",
            "text/plain": [
              "<Figure size 432x288 with 1 Axes>"
            ]
          },
          "metadata": {
            "tags": [],
            "needs_background": "light"
          }
        }
      ]
    }
  ]
}