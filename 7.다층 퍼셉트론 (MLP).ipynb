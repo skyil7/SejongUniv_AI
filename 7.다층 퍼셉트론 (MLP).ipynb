{
  "nbformat": 4,
  "nbformat_minor": 0,
  "metadata": {
    "colab": {
      "name": "7.다층 퍼셉트론 (MLP).ipynb",
      "provenance": [],
      "collapsed_sections": [],
      "authorship_tag": "ABX9TyN7CX9pYWPi6NwxhSCbyA5G",
      "include_colab_link": true
    },
    "kernelspec": {
      "name": "python3",
      "display_name": "Python 3"
    }
  },
  "cells": [
    {
      "cell_type": "markdown",
      "metadata": {
        "id": "view-in-github",
        "colab_type": "text"
      },
      "source": [
        "<a href=\"https://colab.research.google.com/github/skyil7/SejongUniv_AI/blob/master/7.%EB%8B%A4%EC%B8%B5%20%ED%8D%BC%EC%85%89%ED%8A%B8%EB%A1%A0%20(MLP).ipynb\" target=\"_parent\"><img src=\"https://colab.research.google.com/assets/colab-badge.svg\" alt=\"Open In Colab\"/></a>"
      ]
    },
    {
      "cell_type": "markdown",
      "metadata": {
        "id": "eRbr9OMqoZzh",
        "colab_type": "text"
      },
      "source": [
        "# Multi-Layer Perceptron (MLP)\n",
        "Solving XOR Problem with MLP."
      ]
    },
    {
      "cell_type": "code",
      "metadata": {
        "id": "-7P3yH57oYg0",
        "colab_type": "code",
        "colab": {}
      },
      "source": [
        "import torch"
      ],
      "execution_count": 0,
      "outputs": []
    },
    {
      "cell_type": "code",
      "metadata": {
        "id": "M4vaHeqfoi7P",
        "colab_type": "code",
        "colab": {
          "base_uri": "https://localhost:8080/",
          "height": 36
        },
        "outputId": "a0f34d6f-488f-4e84-8a35-34858789c9eb"
      },
      "source": [
        "torch.manual_seed(1)"
      ],
      "execution_count": 2,
      "outputs": [
        {
          "output_type": "execute_result",
          "data": {
            "text/plain": [
              "<torch._C.Generator at 0x7f7f6f499fb0>"
            ]
          },
          "metadata": {
            "tags": []
          },
          "execution_count": 2
        }
      ]
    },
    {
      "cell_type": "code",
      "metadata": {
        "id": "D2VFgvzook9P",
        "colab_type": "code",
        "colab": {}
      },
      "source": [
        "X = torch.FloatTensor([[0,0], [0,1], [1,0],[1,1]])\n",
        "Y = torch.FloatTensor([[0],[1],[1],[0]])"
      ],
      "execution_count": 0,
      "outputs": []
    },
    {
      "cell_type": "markdown",
      "metadata": {
        "id": "V0UzKDQ3onM5",
        "colab_type": "text"
      },
      "source": [
        "## Neural Net Model\n",
        "**Multi-Layer** Model Design"
      ]
    },
    {
      "cell_type": "code",
      "metadata": {
        "id": "LZoVeDGrovjR",
        "colab_type": "code",
        "colab": {}
      },
      "source": [
        "layer1 = torch.nn.Linear(2, 2, bias=True)\n",
        "layer2 = torch.nn.Linear(2, 1, bias=True)\n",
        "sigmoid = torch.nn.Sigmoid()"
      ],
      "execution_count": 0,
      "outputs": []
    },
    {
      "cell_type": "code",
      "metadata": {
        "id": "hOxkM-tpo4fD",
        "colab_type": "code",
        "colab": {
          "base_uri": "https://localhost:8080/",
          "height": 129
        },
        "outputId": "d7ccfd51-20d1-4eee-ebb2-9307121adc46"
      },
      "source": [
        "model = torch.nn.Sequential(layer1, sigmoid, layer2, sigmoid)\n",
        "model"
      ],
      "execution_count": 5,
      "outputs": [
        {
          "output_type": "execute_result",
          "data": {
            "text/plain": [
              "Sequential(\n",
              "  (0): Linear(in_features=2, out_features=2, bias=True)\n",
              "  (1): Sigmoid()\n",
              "  (2): Linear(in_features=2, out_features=1, bias=True)\n",
              "  (3): Sigmoid()\n",
              ")"
            ]
          },
          "metadata": {
            "tags": []
          },
          "execution_count": 5
        }
      ]
    },
    {
      "cell_type": "markdown",
      "metadata": {
        "id": "upbRfYBko-vH",
        "colab_type": "text"
      },
      "source": [
        "## Train Model"
      ]
    },
    {
      "cell_type": "code",
      "metadata": {
        "id": "YfpiM6wOo89U",
        "colab_type": "code",
        "colab": {}
      },
      "source": [
        "loss = torch.nn.BCELoss()\n",
        "optimizer = torch.optim.SGD(model.parameters(), lr=1)"
      ],
      "execution_count": 0,
      "outputs": []
    },
    {
      "cell_type": "code",
      "metadata": {
        "id": "aqOOfYuZpEud",
        "colab_type": "code",
        "colab": {
          "base_uri": "https://localhost:8080/",
          "height": 409
        },
        "outputId": "12575792-2b2c-486c-b284-1727e88f78b9"
      },
      "source": [
        "epochs = 10000\n",
        "for epoch in range(1, epochs+1):\n",
        "    optimizer.zero_grad()\n",
        "    hypothesis = model(X) # Forward\n",
        "    cost = loss(hypothesis, Y) # Error\n",
        "    cost.backward() #Back Prop\n",
        "    optimizer.step()\n",
        "\n",
        "    if epoch % 500 == 1 or epoch == epochs:\n",
        "        print('Epoch {:4d}/{} Cost: {:.6f}'.format(epoch, epochs, cost.item()))"
      ],
      "execution_count": 7,
      "outputs": [
        {
          "output_type": "stream",
          "text": [
            "Epoch    1/10000 Cost: 0.702770\n",
            "Epoch  501/10000 Cost: 0.693032\n",
            "Epoch 1001/10000 Cost: 0.619184\n",
            "Epoch 1501/10000 Cost: 0.033368\n",
            "Epoch 2001/10000 Cost: 0.012369\n",
            "Epoch 2501/10000 Cost: 0.007506\n",
            "Epoch 3001/10000 Cost: 0.005370\n",
            "Epoch 3501/10000 Cost: 0.004175\n",
            "Epoch 4001/10000 Cost: 0.003412\n",
            "Epoch 4501/10000 Cost: 0.002883\n",
            "Epoch 5001/10000 Cost: 0.002496\n",
            "Epoch 5501/10000 Cost: 0.002199\n",
            "Epoch 6001/10000 Cost: 0.001966\n",
            "Epoch 6501/10000 Cost: 0.001777\n",
            "Epoch 7001/10000 Cost: 0.001621\n",
            "Epoch 7501/10000 Cost: 0.001490\n",
            "Epoch 8001/10000 Cost: 0.001378\n",
            "Epoch 8501/10000 Cost: 0.001282\n",
            "Epoch 9001/10000 Cost: 0.001199\n",
            "Epoch 9501/10000 Cost: 0.001125\n",
            "Epoch 10000/10000 Cost: 0.001061\n"
          ],
          "name": "stdout"
        }
      ]
    },
    {
      "cell_type": "markdown",
      "metadata": {
        "id": "2TTpCqg3pJmD",
        "colab_type": "text"
      },
      "source": [
        "## Evaluate Model"
      ]
    },
    {
      "cell_type": "code",
      "metadata": {
        "id": "sy3wtkB_pLxG",
        "colab_type": "code",
        "colab": {
          "base_uri": "https://localhost:8080/",
          "height": 111
        },
        "outputId": "478b6e21-3844-4bbd-e224-9b8bfe0aa939"
      },
      "source": [
        "with torch.no_grad(): # Make requires_grad to False temporary\n",
        "    hypothesis = model(X)\n",
        "    predict = (hypothesis > 0.5).float()\n",
        "    accuracy = (predict == Y).float().mean()\n",
        "    print('Hypothesis: ', hypothesis.numpy(), '\\n Accuracy: ', accuracy.item())"
      ],
      "execution_count": 8,
      "outputs": [
        {
          "output_type": "stream",
          "text": [
            "Hypothesis:  [[0.00123892]\n",
            " [0.9990491 ]\n",
            " [0.99905163]\n",
            " [0.00110119]] \n",
            " Accuracy:  1.0\n"
          ],
          "name": "stdout"
        }
      ]
    }
  ]
}