{
  "nbformat": 4,
  "nbformat_minor": 0,
  "metadata": {
    "colab": {
      "name": "6.퍼셉트론.ipynb",
      "provenance": [],
      "collapsed_sections": [],
      "authorship_tag": "ABX9TyN1MjMUaCujRp1HlK28hYgc",
      "include_colab_link": true
    },
    "kernelspec": {
      "name": "python3",
      "display_name": "Python 3"
    }
  },
  "cells": [
    {
      "cell_type": "markdown",
      "metadata": {
        "id": "view-in-github",
        "colab_type": "text"
      },
      "source": [
        "<a href=\"https://colab.research.google.com/github/skyil7/SejongUniv_AI/blob/master/6.%ED%8D%BC%EC%85%89%ED%8A%B8%EB%A1%A0.ipynb\" target=\"_parent\"><img src=\"https://colab.research.google.com/assets/colab-badge.svg\" alt=\"Open In Colab\"/></a>"
      ]
    },
    {
      "cell_type": "markdown",
      "metadata": {
        "id": "8ZLw-rV5fczi",
        "colab_type": "text"
      },
      "source": [
        "# Perceptron\n",
        "Solving XOR Problem with Perceptron"
      ]
    },
    {
      "cell_type": "code",
      "metadata": {
        "id": "FmSFmwbEfbGl",
        "colab_type": "code",
        "colab": {}
      },
      "source": [
        "import torch"
      ],
      "execution_count": 0,
      "outputs": []
    },
    {
      "cell_type": "code",
      "metadata": {
        "id": "54EzJSDBfiIj",
        "colab_type": "code",
        "colab": {
          "base_uri": "https://localhost:8080/",
          "height": 36
        },
        "outputId": "4b11592b-507b-429c-cc21-c758fa5343f3"
      },
      "source": [
        "torch.manual_seed(1)"
      ],
      "execution_count": 2,
      "outputs": [
        {
          "output_type": "execute_result",
          "data": {
            "text/plain": [
              "<torch._C.Generator at 0x7f4ceb02a990>"
            ]
          },
          "metadata": {
            "tags": []
          },
          "execution_count": 2
        }
      ]
    },
    {
      "cell_type": "code",
      "metadata": {
        "id": "FwwriqnGfjwj",
        "colab_type": "code",
        "colab": {}
      },
      "source": [
        "X = torch.FloatTensor([[0,0], [0,1], [1,0], [1,1]])\n",
        "Y = torch.FloatTensor([[0],[1],[1],[0]])"
      ],
      "execution_count": 0,
      "outputs": []
    },
    {
      "cell_type": "markdown",
      "metadata": {
        "id": "ie3hyup6fuZc",
        "colab_type": "text"
      },
      "source": [
        "## Neual Net Model"
      ]
    },
    {
      "cell_type": "code",
      "metadata": {
        "id": "9JxtRXnxfsGU",
        "colab_type": "code",
        "colab": {}
      },
      "source": [
        "linear = torch.nn.Linear(2, 1, bias=True) # Linear layer with single input and output\n",
        "sigmoid = torch.nn.Sigmoid() # Sigmoid Layer"
      ],
      "execution_count": 0,
      "outputs": []
    },
    {
      "cell_type": "code",
      "metadata": {
        "id": "bEmwIw0ef_WA",
        "colab_type": "code",
        "colab": {}
      },
      "source": [
        "model = torch.nn.Sequential(linear, sigmoid) # Create Sequential Model"
      ],
      "execution_count": 0,
      "outputs": []
    },
    {
      "cell_type": "code",
      "metadata": {
        "id": "cp9l4htcgQpr",
        "colab_type": "code",
        "colab": {
          "base_uri": "https://localhost:8080/",
          "height": 92
        },
        "outputId": "6fc3b90e-aa62-4b83-d4a5-c8319d805600"
      },
      "source": [
        "model"
      ],
      "execution_count": 6,
      "outputs": [
        {
          "output_type": "execute_result",
          "data": {
            "text/plain": [
              "Sequential(\n",
              "  (0): Linear(in_features=2, out_features=1, bias=True)\n",
              "  (1): Sigmoid()\n",
              ")"
            ]
          },
          "metadata": {
            "tags": []
          },
          "execution_count": 6
        }
      ]
    },
    {
      "cell_type": "markdown",
      "metadata": {
        "id": "BS5d9Y50gSIw",
        "colab_type": "text"
      },
      "source": [
        "## Train Model"
      ]
    },
    {
      "cell_type": "code",
      "metadata": {
        "id": "EhqtF0njgRB-",
        "colab_type": "code",
        "colab": {}
      },
      "source": [
        "loss = torch.nn.BCELoss() # Binary Cross Entropy\n",
        "optimizer = torch.optim.SGD(model.parameters(), lr=1) # Get weight and bias via parameters() function"
      ],
      "execution_count": 0,
      "outputs": []
    },
    {
      "cell_type": "code",
      "metadata": {
        "id": "mHvBa9ebgnnw",
        "colab_type": "code",
        "colab": {
          "base_uri": "https://localhost:8080/",
          "height": 391
        },
        "outputId": "1e1e9436-5aef-42c4-8c45-93f55dce3c03"
      },
      "source": [
        "epochs = 10000\n",
        "for epoch in range(1, epochs+1):\n",
        "    optimizer.zero_grad()\n",
        "    hypothesis = model(X) # Forward\n",
        "    cost = loss(hypothesis, Y) # Error\n",
        "    cost.backward() #Back Prop\n",
        "    optimizer.step()\n",
        "\n",
        "    if epoch % 500 == 1 or epoch == epochs:\n",
        "        print('Epoch {:4d}/{} Cost: {:.6f}'.format(epoch, epochs, cost.item()))"
      ],
      "execution_count": 8,
      "outputs": [
        {
          "output_type": "stream",
          "text": [
            "Epoch    1/10000 Cost: 0.701822\n",
            "Epoch  501/10000 Cost: 0.693147\n",
            "Epoch 1001/10000 Cost: 0.693147\n",
            "Epoch 1501/10000 Cost: 0.693147\n",
            "Epoch 2001/10000 Cost: 0.693147\n",
            "Epoch 2501/10000 Cost: 0.693147\n",
            "Epoch 3001/10000 Cost: 0.693147\n",
            "Epoch 3501/10000 Cost: 0.693147\n",
            "Epoch 4001/10000 Cost: 0.693147\n",
            "Epoch 4501/10000 Cost: 0.693147\n",
            "Epoch 5001/10000 Cost: 0.693147\n",
            "Epoch 5501/10000 Cost: 0.693147\n",
            "Epoch 6001/10000 Cost: 0.693147\n",
            "Epoch 6501/10000 Cost: 0.693147\n",
            "Epoch 7001/10000 Cost: 0.693147\n",
            "Epoch 7501/10000 Cost: 0.693147\n",
            "Epoch 8001/10000 Cost: 0.693147\n",
            "Epoch 8501/10000 Cost: 0.693147\n",
            "Epoch 9001/10000 Cost: 0.693147\n",
            "Epoch 9501/10000 Cost: 0.693147\n"
          ],
          "name": "stdout"
        }
      ]
    },
    {
      "cell_type": "markdown",
      "metadata": {
        "id": "gDtmHdHkhHm6",
        "colab_type": "text"
      },
      "source": [
        "# Evaluate Model"
      ]
    },
    {
      "cell_type": "code",
      "metadata": {
        "id": "HLWXJLmZhKEH",
        "colab_type": "code",
        "colab": {
          "base_uri": "https://localhost:8080/",
          "height": 111
        },
        "outputId": "6c58385a-a913-4634-bcee-aa21f183c170"
      },
      "source": [
        "with torch.no_grad(): # Make requires_grad to False temporary\n",
        "    hypothesis = model(X)\n",
        "    predict = (hypothesis > 0.5).float()\n",
        "    accuracy = (predict == Y).float().mean()\n",
        "    print('Hypothesis: ', hypothesis.numpy(), '\\n Accuracy: ', accuracy.item())"
      ],
      "execution_count": 9,
      "outputs": [
        {
          "output_type": "stream",
          "text": [
            "Hypothesis:  [[0.5]\n",
            " [0.5]\n",
            " [0.5]\n",
            " [0.5]] \n",
            " Accuracy:  0.5\n"
          ],
          "name": "stdout"
        }
      ]
    },
    {
      "cell_type": "markdown",
      "metadata": {
        "id": "oKBiU4EliKV-",
        "colab_type": "text"
      },
      "source": [
        "## Conclusion\n",
        "***Cannot Solve XOR Problem with Single Layer Perceptron!***"
      ]
    }
  ]
}