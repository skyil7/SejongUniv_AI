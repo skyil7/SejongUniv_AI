{
  "nbformat": 4,
  "nbformat_minor": 0,
  "metadata": {
    "colab": {
      "name": "중간고사 문제4_따릉이.ipynb",
      "provenance": [],
      "toc_visible": true
    },
    "kernelspec": {
      "name": "python3",
      "display_name": "Python 3"
    },
    "accelerator": "GPU"
  },
  "cells": [
    {
      "cell_type": "markdown",
      "metadata": {
        "id": "8SE2Mttu1ynJ",
        "colab_type": "text"
      },
      "source": [
        "# 중간고사 4번: 따릉이 수요 예측\n",
        "*Linear Regression*\n",
        "\n",
        "- CUDA 사용\n",
        "- 전체 행 normalize\n",
        "- mse 내장함수 사용\n",
        "\n",
        "중간고사에서는 전체 행을 Normalize 하지 않고 std가 유난히 큰 hour_bef_visibility만 normalize했는데, 이번에는 전부 다 했다. 그런데 결과는 중간고사 버전이 월등히 뛰어나다. 왜 그럴까??"
      ]
    },
    {
      "cell_type": "code",
      "metadata": {
        "id": "ArNJQSNt1vh0",
        "colab_type": "code",
        "colab": {}
      },
      "source": [
        "from google.colab import files\n",
        "files.upload()"
      ],
      "execution_count": 0,
      "outputs": []
    },
    {
      "cell_type": "code",
      "metadata": {
        "id": "5bSbVvTq2N_z",
        "colab_type": "code",
        "colab": {}
      },
      "source": [
        "! mkdir -p ~/.kaggle\n",
        "! cp kaggle.json ~/.kaggle/\n",
        "! chmod 600 ~/.kaggle/kaggle.json\n",
        "! kaggle competitions download -c 2020-ai-exam-biker-revisit"
      ],
      "execution_count": 0,
      "outputs": []
    },
    {
      "cell_type": "code",
      "metadata": {
        "id": "nf0PYBkM2lCQ",
        "colab_type": "code",
        "colab": {}
      },
      "source": [
        "import torch\n",
        "import torch.optim as optim\n",
        "import torch.nn.functional as F\n",
        "import pandas as pd\n",
        "import numpy as np"
      ],
      "execution_count": 0,
      "outputs": []
    },
    {
      "cell_type": "code",
      "metadata": {
        "id": "M_xsG_G02r1q",
        "colab_type": "code",
        "colab": {}
      },
      "source": [
        "torch.manual_seed(1)\n",
        "device = torch.device('cuda')"
      ],
      "execution_count": 0,
      "outputs": []
    },
    {
      "cell_type": "markdown",
      "metadata": {
        "id": "wl7rRDc52ul4",
        "colab_type": "text"
      },
      "source": [
        "# Load Data"
      ]
    },
    {
      "cell_type": "code",
      "metadata": {
        "id": "5igYcxek2r_r",
        "colab_type": "code",
        "colab": {}
      },
      "source": [
        "xy_train = pd.read_csv('2020.AI.bike-train.csv', header=0, index_col=0)\n",
        "x_test = pd.read_csv('2020.AI.bike-test.csv', header=0, index_col=0)"
      ],
      "execution_count": 0,
      "outputs": []
    },
    {
      "cell_type": "code",
      "metadata": {
        "id": "7wwMkguf21r-",
        "colab_type": "code",
        "colab": {
          "base_uri": "https://localhost:8080/",
          "height": 294
        },
        "outputId": "19a9a35a-b94e-4b32-b72a-e7ab97668f09"
      },
      "source": [
        "xy_train.describe()"
      ],
      "execution_count": 84,
      "outputs": [
        {
          "output_type": "execute_result",
          "data": {
            "text/html": [
              "<div>\n",
              "<style scoped>\n",
              "    .dataframe tbody tr th:only-of-type {\n",
              "        vertical-align: middle;\n",
              "    }\n",
              "\n",
              "    .dataframe tbody tr th {\n",
              "        vertical-align: top;\n",
              "    }\n",
              "\n",
              "    .dataframe thead th {\n",
              "        text-align: right;\n",
              "    }\n",
              "</style>\n",
              "<table border=\"1\" class=\"dataframe\">\n",
              "  <thead>\n",
              "    <tr style=\"text-align: right;\">\n",
              "      <th></th>\n",
              "      <th>hour</th>\n",
              "      <th>hour_bef_temperature</th>\n",
              "      <th>hour_bef_precipitation</th>\n",
              "      <th>hour_bef_windspeed</th>\n",
              "      <th>hour_bef_humidity</th>\n",
              "      <th>hour_bef_visibility</th>\n",
              "      <th>hour_bef_ozone</th>\n",
              "      <th>hour_bef_pm10</th>\n",
              "      <th>hour_bef_pm2.5</th>\n",
              "      <th>count</th>\n",
              "    </tr>\n",
              "  </thead>\n",
              "  <tbody>\n",
              "    <tr>\n",
              "      <th>count</th>\n",
              "      <td>1000.000000</td>\n",
              "      <td>1000.000000</td>\n",
              "      <td>1000.000000</td>\n",
              "      <td>1000.000000</td>\n",
              "      <td>1000.000000</td>\n",
              "      <td>1000.000000</td>\n",
              "      <td>1000.000000</td>\n",
              "      <td>1000.00000</td>\n",
              "      <td>1000.000000</td>\n",
              "      <td>1000.000000</td>\n",
              "    </tr>\n",
              "    <tr>\n",
              "      <th>mean</th>\n",
              "      <td>11.886000</td>\n",
              "      <td>16.829000</td>\n",
              "      <td>0.033000</td>\n",
              "      <td>2.464600</td>\n",
              "      <td>52.012000</td>\n",
              "      <td>1412.057000</td>\n",
              "      <td>0.038480</td>\n",
              "      <td>57.44900</td>\n",
              "      <td>30.244000</td>\n",
              "      <td>110.693000</td>\n",
              "    </tr>\n",
              "    <tr>\n",
              "      <th>std</th>\n",
              "      <td>6.707757</td>\n",
              "      <td>5.196688</td>\n",
              "      <td>0.178726</td>\n",
              "      <td>1.386726</td>\n",
              "      <td>20.288358</td>\n",
              "      <td>575.842011</td>\n",
              "      <td>0.019338</td>\n",
              "      <td>30.79558</td>\n",
              "      <td>14.553428</td>\n",
              "      <td>83.867506</td>\n",
              "    </tr>\n",
              "    <tr>\n",
              "      <th>min</th>\n",
              "      <td>0.000000</td>\n",
              "      <td>3.100000</td>\n",
              "      <td>0.000000</td>\n",
              "      <td>0.000000</td>\n",
              "      <td>7.000000</td>\n",
              "      <td>78.000000</td>\n",
              "      <td>0.003000</td>\n",
              "      <td>12.00000</td>\n",
              "      <td>9.000000</td>\n",
              "      <td>1.000000</td>\n",
              "    </tr>\n",
              "    <tr>\n",
              "      <th>25%</th>\n",
              "      <td>6.000000</td>\n",
              "      <td>13.100000</td>\n",
              "      <td>0.000000</td>\n",
              "      <td>1.400000</td>\n",
              "      <td>36.000000</td>\n",
              "      <td>910.500000</td>\n",
              "      <td>0.024000</td>\n",
              "      <td>36.00000</td>\n",
              "      <td>20.000000</td>\n",
              "      <td>37.000000</td>\n",
              "    </tr>\n",
              "    <tr>\n",
              "      <th>50%</th>\n",
              "      <td>12.000000</td>\n",
              "      <td>16.600000</td>\n",
              "      <td>0.000000</td>\n",
              "      <td>2.300000</td>\n",
              "      <td>51.000000</td>\n",
              "      <td>1577.000000</td>\n",
              "      <td>0.038000</td>\n",
              "      <td>52.00000</td>\n",
              "      <td>26.000000</td>\n",
              "      <td>100.000000</td>\n",
              "    </tr>\n",
              "    <tr>\n",
              "      <th>75%</th>\n",
              "      <td>18.000000</td>\n",
              "      <td>20.100000</td>\n",
              "      <td>0.000000</td>\n",
              "      <td>3.400000</td>\n",
              "      <td>68.250000</td>\n",
              "      <td>1991.000000</td>\n",
              "      <td>0.051250</td>\n",
              "      <td>70.00000</td>\n",
              "      <td>37.000000</td>\n",
              "      <td>153.000000</td>\n",
              "    </tr>\n",
              "    <tr>\n",
              "      <th>max</th>\n",
              "      <td>23.000000</td>\n",
              "      <td>30.000000</td>\n",
              "      <td>1.000000</td>\n",
              "      <td>8.000000</td>\n",
              "      <td>99.000000</td>\n",
              "      <td>2000.000000</td>\n",
              "      <td>0.106000</td>\n",
              "      <td>269.00000</td>\n",
              "      <td>90.000000</td>\n",
              "      <td>431.000000</td>\n",
              "    </tr>\n",
              "  </tbody>\n",
              "</table>\n",
              "</div>"
            ],
            "text/plain": [
              "              hour  hour_bef_temperature  ...  hour_bef_pm2.5        count\n",
              "count  1000.000000           1000.000000  ...     1000.000000  1000.000000\n",
              "mean     11.886000             16.829000  ...       30.244000   110.693000\n",
              "std       6.707757              5.196688  ...       14.553428    83.867506\n",
              "min       0.000000              3.100000  ...        9.000000     1.000000\n",
              "25%       6.000000             13.100000  ...       20.000000    37.000000\n",
              "50%      12.000000             16.600000  ...       26.000000   100.000000\n",
              "75%      18.000000             20.100000  ...       37.000000   153.000000\n",
              "max      23.000000             30.000000  ...       90.000000   431.000000\n",
              "\n",
              "[8 rows x 10 columns]"
            ]
          },
          "metadata": {
            "tags": []
          },
          "execution_count": 84
        }
      ]
    },
    {
      "cell_type": "code",
      "metadata": {
        "id": "DgWmnWZA25WO",
        "colab_type": "code",
        "colab": {}
      },
      "source": [
        "norm_data = dict()\n",
        "def get_norm_data(col):\n",
        "    norm_data[col+'_min'] = xy_train[col].min()\n",
        "    norm_data[col+'_max'] = xy_train[col].max()\n",
        "    norm_data[col+'_diff'] = norm_data[col+'_max'] - norm_data[col+'_min']\n",
        "def normalizer(col, target):\n",
        "    target[col] -= norm_data[col+'_min']\n",
        "    target[col] /= norm_data[col+'_diff']"
      ],
      "execution_count": 0,
      "outputs": []
    },
    {
      "cell_type": "code",
      "metadata": {
        "id": "DqIHXULY4Hr1",
        "colab_type": "code",
        "colab": {
          "base_uri": "https://localhost:8080/",
          "height": 92
        },
        "outputId": "6cbf254c-6094-48d5-e96e-83fc4339e47f"
      },
      "source": [
        "cols = xy_train.columns\n",
        "test_cols = x_test.columns\n",
        "cols"
      ],
      "execution_count": 86,
      "outputs": [
        {
          "output_type": "execute_result",
          "data": {
            "text/plain": [
              "Index(['hour', 'hour_bef_temperature', 'hour_bef_precipitation',\n",
              "       'hour_bef_windspeed', 'hour_bef_humidity', 'hour_bef_visibility',\n",
              "       'hour_bef_ozone', 'hour_bef_pm10', 'hour_bef_pm2.5', 'count'],\n",
              "      dtype='object')"
            ]
          },
          "metadata": {
            "tags": []
          },
          "execution_count": 86
        }
      ]
    },
    {
      "cell_type": "code",
      "metadata": {
        "id": "tWlsDjyW4X1j",
        "colab_type": "code",
        "colab": {}
      },
      "source": [
        "# Data Normalization\n",
        "for col in cols:\n",
        "    get_norm_data(col)\n",
        "    normalizer(col, xy_train)\n",
        "for col in test_cols:\n",
        "    normalizer(col, x_test)"
      ],
      "execution_count": 0,
      "outputs": []
    },
    {
      "cell_type": "code",
      "metadata": {
        "id": "ihcjvxzI4hvG",
        "colab_type": "code",
        "colab": {
          "base_uri": "https://localhost:8080/",
          "height": 294
        },
        "outputId": "cf002f0c-f8b4-449b-ab6d-5356e9d2804e"
      },
      "source": [
        "xy_train.describe()"
      ],
      "execution_count": 88,
      "outputs": [
        {
          "output_type": "execute_result",
          "data": {
            "text/html": [
              "<div>\n",
              "<style scoped>\n",
              "    .dataframe tbody tr th:only-of-type {\n",
              "        vertical-align: middle;\n",
              "    }\n",
              "\n",
              "    .dataframe tbody tr th {\n",
              "        vertical-align: top;\n",
              "    }\n",
              "\n",
              "    .dataframe thead th {\n",
              "        text-align: right;\n",
              "    }\n",
              "</style>\n",
              "<table border=\"1\" class=\"dataframe\">\n",
              "  <thead>\n",
              "    <tr style=\"text-align: right;\">\n",
              "      <th></th>\n",
              "      <th>hour</th>\n",
              "      <th>hour_bef_temperature</th>\n",
              "      <th>hour_bef_precipitation</th>\n",
              "      <th>hour_bef_windspeed</th>\n",
              "      <th>hour_bef_humidity</th>\n",
              "      <th>hour_bef_visibility</th>\n",
              "      <th>hour_bef_ozone</th>\n",
              "      <th>hour_bef_pm10</th>\n",
              "      <th>hour_bef_pm2.5</th>\n",
              "      <th>count</th>\n",
              "    </tr>\n",
              "  </thead>\n",
              "  <tbody>\n",
              "    <tr>\n",
              "      <th>count</th>\n",
              "      <td>1000.000000</td>\n",
              "      <td>1000.000000</td>\n",
              "      <td>1000.000000</td>\n",
              "      <td>1000.000000</td>\n",
              "      <td>1000.000000</td>\n",
              "      <td>1000.000000</td>\n",
              "      <td>1000.000000</td>\n",
              "      <td>1000.000000</td>\n",
              "      <td>1000.000000</td>\n",
              "      <td>1000.000000</td>\n",
              "    </tr>\n",
              "    <tr>\n",
              "      <th>mean</th>\n",
              "      <td>0.516783</td>\n",
              "      <td>0.510372</td>\n",
              "      <td>0.033000</td>\n",
              "      <td>0.308075</td>\n",
              "      <td>0.489261</td>\n",
              "      <td>0.694098</td>\n",
              "      <td>0.344466</td>\n",
              "      <td>0.176844</td>\n",
              "      <td>0.262272</td>\n",
              "      <td>0.255100</td>\n",
              "    </tr>\n",
              "    <tr>\n",
              "      <th>std</th>\n",
              "      <td>0.291642</td>\n",
              "      <td>0.193185</td>\n",
              "      <td>0.178726</td>\n",
              "      <td>0.173341</td>\n",
              "      <td>0.220526</td>\n",
              "      <td>0.299606</td>\n",
              "      <td>0.187751</td>\n",
              "      <td>0.119827</td>\n",
              "      <td>0.179672</td>\n",
              "      <td>0.195041</td>\n",
              "    </tr>\n",
              "    <tr>\n",
              "      <th>min</th>\n",
              "      <td>0.000000</td>\n",
              "      <td>0.000000</td>\n",
              "      <td>0.000000</td>\n",
              "      <td>0.000000</td>\n",
              "      <td>0.000000</td>\n",
              "      <td>0.000000</td>\n",
              "      <td>0.000000</td>\n",
              "      <td>0.000000</td>\n",
              "      <td>0.000000</td>\n",
              "      <td>0.000000</td>\n",
              "    </tr>\n",
              "    <tr>\n",
              "      <th>25%</th>\n",
              "      <td>0.260870</td>\n",
              "      <td>0.371747</td>\n",
              "      <td>0.000000</td>\n",
              "      <td>0.175000</td>\n",
              "      <td>0.315217</td>\n",
              "      <td>0.433143</td>\n",
              "      <td>0.203883</td>\n",
              "      <td>0.093385</td>\n",
              "      <td>0.135802</td>\n",
              "      <td>0.083721</td>\n",
              "    </tr>\n",
              "    <tr>\n",
              "      <th>50%</th>\n",
              "      <td>0.521739</td>\n",
              "      <td>0.501859</td>\n",
              "      <td>0.000000</td>\n",
              "      <td>0.287500</td>\n",
              "      <td>0.478261</td>\n",
              "      <td>0.779917</td>\n",
              "      <td>0.339806</td>\n",
              "      <td>0.155642</td>\n",
              "      <td>0.209877</td>\n",
              "      <td>0.230233</td>\n",
              "    </tr>\n",
              "    <tr>\n",
              "      <th>75%</th>\n",
              "      <td>0.782609</td>\n",
              "      <td>0.631970</td>\n",
              "      <td>0.000000</td>\n",
              "      <td>0.425000</td>\n",
              "      <td>0.665761</td>\n",
              "      <td>0.995317</td>\n",
              "      <td>0.468447</td>\n",
              "      <td>0.225681</td>\n",
              "      <td>0.345679</td>\n",
              "      <td>0.353488</td>\n",
              "    </tr>\n",
              "    <tr>\n",
              "      <th>max</th>\n",
              "      <td>1.000000</td>\n",
              "      <td>1.000000</td>\n",
              "      <td>1.000000</td>\n",
              "      <td>1.000000</td>\n",
              "      <td>1.000000</td>\n",
              "      <td>1.000000</td>\n",
              "      <td>1.000000</td>\n",
              "      <td>1.000000</td>\n",
              "      <td>1.000000</td>\n",
              "      <td>1.000000</td>\n",
              "    </tr>\n",
              "  </tbody>\n",
              "</table>\n",
              "</div>"
            ],
            "text/plain": [
              "              hour  hour_bef_temperature  ...  hour_bef_pm2.5        count\n",
              "count  1000.000000           1000.000000  ...     1000.000000  1000.000000\n",
              "mean      0.516783              0.510372  ...        0.262272     0.255100\n",
              "std       0.291642              0.193185  ...        0.179672     0.195041\n",
              "min       0.000000              0.000000  ...        0.000000     0.000000\n",
              "25%       0.260870              0.371747  ...        0.135802     0.083721\n",
              "50%       0.521739              0.501859  ...        0.209877     0.230233\n",
              "75%       0.782609              0.631970  ...        0.345679     0.353488\n",
              "max       1.000000              1.000000  ...        1.000000     1.000000\n",
              "\n",
              "[8 rows x 10 columns]"
            ]
          },
          "metadata": {
            "tags": []
          },
          "execution_count": 88
        }
      ]
    },
    {
      "cell_type": "code",
      "metadata": {
        "id": "ZL_bKWsz9Oti",
        "colab_type": "code",
        "colab": {
          "base_uri": "https://localhost:8080/",
          "height": 55
        },
        "outputId": "9af4f544-dec8-46bb-c7ce-61e3d96280e9"
      },
      "source": [
        "x_train = np.array(xy_train.iloc[:, :9])\n",
        "y_train = np.array(xy_train.iloc[:, 9])\n",
        "x_test = np.array(x_test)\n",
        "\n",
        "x_train = torch.FloatTensor(x_train).to(device)  # CUDA 연결\n",
        "y_train = torch.FloatTensor(y_train).to(device)  # CUDA 연결\n",
        "x_test = torch.FloatTensor(x_test).to(device)    # CUDA 연결\n",
        "\n",
        "print(x_train.shape)\n",
        "print(y_train.shape)"
      ],
      "execution_count": 95,
      "outputs": [
        {
          "output_type": "stream",
          "text": [
            "torch.Size([1000, 9])\n",
            "torch.Size([1000])\n"
          ],
          "name": "stdout"
        }
      ]
    },
    {
      "cell_type": "markdown",
      "metadata": {
        "id": "SPjiPGNg9DjD",
        "colab_type": "text"
      },
      "source": [
        "# Train Model"
      ]
    },
    {
      "cell_type": "code",
      "metadata": {
        "id": "AUN-rjyf52HA",
        "colab_type": "code",
        "colab": {
          "base_uri": "https://localhost:8080/",
          "height": 167
        },
        "outputId": "68ab8bf7-0551-4c7a-b7e4-be2c399decf4"
      },
      "source": [
        "Epochs = 5000\n",
        "lr = 1e-5\n",
        "\n",
        "W = torch.zeros((9, 1), requires_grad=True, device='cuda') # CUDA 연결\n",
        "b = torch.zeros(1, requires_grad=True, device='cuda')      # CUDA 연결\n",
        "\n",
        "optimizer = optim.SGD((W, b), lr=lr, momentum=0.9) #Implement Momentum\n",
        "\n",
        "for epoch in range(1, Epochs+1):\n",
        "    hypothesis = x_train.mm(W) + b\n",
        "    cost = F.mse_loss(hypothesis, y_train)\n",
        "\n",
        "    optimizer.zero_grad()\n",
        "    cost.backward()\n",
        "    optimizer.step()\n",
        "\n",
        "    if epoch == 1 or epoch%1000 == 0:\n",
        "        print('Epoch: {:4d}/{} Cost: {:.6f}'.format(epoch, Epochs, cost))"
      ],
      "execution_count": 119,
      "outputs": [
        {
          "output_type": "stream",
          "text": [
            "/usr/local/lib/python3.6/dist-packages/ipykernel_launcher.py:11: UserWarning: Using a target size (torch.Size([1000])) that is different to the input size (torch.Size([1000, 1])). This will likely lead to incorrect results due to broadcasting. Please ensure they have the same size.\n",
            "  # This is added back by InteractiveShellApp.init_path()\n"
          ],
          "name": "stderr"
        },
        {
          "output_type": "stream",
          "text": [
            "Epoch:    1/5000 Cost: 0.103079\n",
            "Epoch: 1000/5000 Cost: 0.061711\n",
            "Epoch: 2000/5000 Cost: 0.046909\n",
            "Epoch: 3000/5000 Cost: 0.041684\n",
            "Epoch: 4000/5000 Cost: 0.039826\n",
            "Epoch: 5000/5000 Cost: 0.039152\n"
          ],
          "name": "stdout"
        }
      ]
    },
    {
      "cell_type": "markdown",
      "metadata": {
        "id": "X4GFdusT-MOk",
        "colab_type": "text"
      },
      "source": [
        "# Test"
      ]
    },
    {
      "cell_type": "code",
      "metadata": {
        "id": "FAg3uz2G97Jp",
        "colab_type": "code",
        "colab": {
          "base_uri": "https://localhost:8080/",
          "height": 111
        },
        "outputId": "850017b3-d359-4ff7-9592-fa38bb3f34db"
      },
      "source": [
        "pred = x_test.mm(W) + b\n",
        "pred *= norm_data['count_diff']\n",
        "pred += norm_data['count_min']\n",
        "pred[:5]"
      ],
      "execution_count": 108,
      "outputs": [
        {
          "output_type": "execute_result",
          "data": {
            "text/plain": [
              "tensor([[101.4925],\n",
              "        [125.8270],\n",
              "        [109.5320],\n",
              "        [ 92.9402],\n",
              "        [ 90.3737]], device='cuda:0', grad_fn=<SliceBackward>)"
            ]
          },
          "metadata": {
            "tags": []
          },
          "execution_count": 108
        }
      ]
    },
    {
      "cell_type": "code",
      "metadata": {
        "id": "Pr2sIf7i-egj",
        "colab_type": "code",
        "colab": {
          "base_uri": "https://localhost:8080/",
          "height": 202
        },
        "outputId": "a9b0a45f-2cd2-42d9-f463-42accd5a6a39"
      },
      "source": [
        "submit = pd.read_csv('2020.AI.bike-submission.csv')\n",
        "submit['id'] = submit['count']\n",
        "\n",
        "for i in range(len(submit)):\n",
        "    submit['count'][i] = pred[i]\n",
        "\n",
        "submit['id'] = pd.Series(submit['id'], dtype=\"Int32\")\n",
        "submit.head()"
      ],
      "execution_count": 97,
      "outputs": [
        {
          "output_type": "execute_result",
          "data": {
            "text/html": [
              "<div>\n",
              "<style scoped>\n",
              "    .dataframe tbody tr th:only-of-type {\n",
              "        vertical-align: middle;\n",
              "    }\n",
              "\n",
              "    .dataframe tbody tr th {\n",
              "        vertical-align: top;\n",
              "    }\n",
              "\n",
              "    .dataframe thead th {\n",
              "        text-align: right;\n",
              "    }\n",
              "</style>\n",
              "<table border=\"1\" class=\"dataframe\">\n",
              "  <thead>\n",
              "    <tr style=\"text-align: right;\">\n",
              "      <th></th>\n",
              "      <th>id</th>\n",
              "      <th>count</th>\n",
              "    </tr>\n",
              "  </thead>\n",
              "  <tbody>\n",
              "    <tr>\n",
              "      <th>0</th>\n",
              "      <td>0</td>\n",
              "      <td>101.502716</td>\n",
              "    </tr>\n",
              "    <tr>\n",
              "      <th>1</th>\n",
              "      <td>1</td>\n",
              "      <td>125.843536</td>\n",
              "    </tr>\n",
              "    <tr>\n",
              "      <th>2</th>\n",
              "      <td>2</td>\n",
              "      <td>109.545052</td>\n",
              "    </tr>\n",
              "    <tr>\n",
              "      <th>3</th>\n",
              "      <td>3</td>\n",
              "      <td>92.947540</td>\n",
              "    </tr>\n",
              "    <tr>\n",
              "      <th>4</th>\n",
              "      <td>4</td>\n",
              "      <td>90.380898</td>\n",
              "    </tr>\n",
              "  </tbody>\n",
              "</table>\n",
              "</div>"
            ],
            "text/plain": [
              "   id       count\n",
              "0   0  101.502716\n",
              "1   1  125.843536\n",
              "2   2  109.545052\n",
              "3   3   92.947540\n",
              "4   4   90.380898"
            ]
          },
          "metadata": {
            "tags": []
          },
          "execution_count": 97
        }
      ]
    },
    {
      "cell_type": "code",
      "metadata": {
        "id": "Tcv1J7q8_Bx2",
        "colab_type": "code",
        "colab": {}
      },
      "source": [
        "submit.to_csv('submit.csv', index=False)"
      ],
      "execution_count": 0,
      "outputs": []
    },
    {
      "cell_type": "code",
      "metadata": {
        "id": "SkTeicVD_D3-",
        "colab_type": "code",
        "colab": {
          "base_uri": "https://localhost:8080/",
          "height": 167
        },
        "outputId": "fdeea64a-b397-4a0a-cfc4-d568a3da92c9"
      },
      "source": [
        "! kaggle competitions submit -c 2020-ai-exam-biker-revisit -f submit.csv -m 'First Submit'"
      ],
      "execution_count": 116,
      "outputs": [
        {
          "output_type": "stream",
          "text": [
            "Warning: Looks like you're using an outdated API Version, please consider updating (server 1.5.6 / client 1.5.4)\n",
            "100% 7.03k/7.03k [00:06<00:00, 1.05kB/s]\n",
            "Traceback (most recent call last):\n",
            "  File \"/usr/local/bin/kaggle\", line 8, in <module>\n",
            "    sys.exit(main())\n",
            "  File \"/usr/local/lib/python2.7/dist-packages/kaggle/cli.py\", line 64, in main\n",
            "    print(out, end='')\n",
            "UnicodeEncodeError: 'latin-1' codec can't encode characters in position 34-37: ordinal not in range(256)\n"
          ],
          "name": "stdout"
        }
      ]
    }
  ]
}