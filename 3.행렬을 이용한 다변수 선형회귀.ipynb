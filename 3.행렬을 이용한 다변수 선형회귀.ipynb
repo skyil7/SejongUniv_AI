{
  "nbformat": 4,
  "nbformat_minor": 0,
  "metadata": {
    "colab": {
      "name": "3.Multivariate Linear Regression.ipynb",
      "provenance": [],
      "authorship_tag": "ABX9TyNf+YlEE0KVN6AyC11gnmBe",
      "include_colab_link": true
    },
    "kernelspec": {
      "name": "python3",
      "display_name": "Python 3"
    }
  },
  "cells": [
    {
      "cell_type": "markdown",
      "metadata": {
        "id": "view-in-github",
        "colab_type": "text"
      },
      "source": [
        "<a href=\"https://colab.research.google.com/github/skyil7/SejongUniv_AI/blob/master/3.%ED%96%89%EB%A0%AC%EC%9D%84%20%EC%9D%B4%EC%9A%A9%ED%95%9C%20%EB%8B%A4%EB%B3%80%EC%88%98%20%EC%84%A0%ED%98%95%ED%9A%8C%EA%B7%80.ipynb\" target=\"_parent\"><img src=\"https://colab.research.google.com/assets/colab-badge.svg\" alt=\"Open In Colab\"/></a>"
      ]
    },
    {
      "cell_type": "markdown",
      "metadata": {
        "id": "YWO30VOXxsrt",
        "colab_type": "text"
      },
      "source": [
        "# Multivariate Linear Regression\n",
        "여러 변수를 갖는 선형 회귀엔 행렬을 이용한다."
      ]
    },
    {
      "cell_type": "markdown",
      "metadata": {
        "id": "8ZRMTh2zx1vp",
        "colab_type": "text"
      },
      "source": [
        "## Imports"
      ]
    },
    {
      "cell_type": "code",
      "metadata": {
        "id": "nj5GhrZOx0R2",
        "colab_type": "code",
        "colab": {}
      },
      "source": [
        "import torch\n",
        "import torch.optim as optim"
      ],
      "execution_count": 0,
      "outputs": []
    },
    {
      "cell_type": "code",
      "metadata": {
        "id": "JuAije5kx90C",
        "colab_type": "code",
        "colab": {
          "base_uri": "https://localhost:8080/",
          "height": 36
        },
        "outputId": "f4319751-cc66-47e9-fa6f-e117300ce7ac"
      },
      "source": [
        "torch.manual_seed(1)"
      ],
      "execution_count": 2,
      "outputs": [
        {
          "output_type": "execute_result",
          "data": {
            "text/plain": [
              "<torch._C.Generator at 0x7f2536d50070>"
            ]
          },
          "metadata": {
            "tags": []
          },
          "execution_count": 2
        }
      ]
    },
    {
      "cell_type": "markdown",
      "metadata": {
        "id": "o4w8iCtvyAsC",
        "colab_type": "text"
      },
      "source": [
        "## Naive Data Representation"
      ]
    },
    {
      "cell_type": "code",
      "metadata": {
        "id": "wAzc8aE9yMQN",
        "colab_type": "code",
        "colab": {}
      },
      "source": [
        "x1_train = torch.FloatTensor([[73], [93], [89], [96], [73]])\n",
        "x2_train = torch.FloatTensor([[80], [88], [91], [98], [66]])\n",
        "x3_train = torch.FloatTensor([[75], [93], [90], [100], [70]])\n",
        "y_train = torch.FloatTensor([[152], [185], [180], [196], [142]])"
      ],
      "execution_count": 0,
      "outputs": []
    },
    {
      "cell_type": "code",
      "metadata": {
        "id": "nFwPjHlHyxV4",
        "colab_type": "code",
        "colab": {
          "base_uri": "https://localhost:8080/",
          "height": 223
        },
        "outputId": "3755f26d-ce5e-4a46-996d-d2ed01c85226"
      },
      "source": [
        "# 모델 초기화\n",
        "w1 = torch.zeros(1, requires_grad=True)\n",
        "w2 = torch.zeros(1, requires_grad=True)\n",
        "w3 = torch.zeros(1, requires_grad=True)\n",
        "b = torch.zeros(1, requires_grad=True)\n",
        "\n",
        "# optimizer 설정\n",
        "optimizer = optim.SGD([w1, w2, w3, b], lr=1e-5)\n",
        "\n",
        "nb_epochs = 1000\n",
        "for epoch in range(nb_epochs + 1):\n",
        "    # H(x) 계산\n",
        "    hypothesis = x1_train * w1 + x2_train * w2 + x3_train * w3 + b\n",
        "\n",
        "    # cost 계산\n",
        "    cost = torch.mean((hypothesis - y_train) ** 2)\n",
        "\n",
        "    optimizer.zero_grad()\n",
        "    cost.backward()\n",
        "    optimizer.step()\n",
        "\n",
        "    # 로깅\n",
        "    if epoch % 100 == 0:\n",
        "        print('Epoch {:4d}/{} w1: {:.3f} w2: {:.3f} w3: {:.3f} b: {:.3f} Cost: {:.6f}'.format(epoch, nb_epochs, w1.item(), w2.item(), w3.item(), b.item(), cost.item()))"
      ],
      "execution_count": 4,
      "outputs": [
        {
          "output_type": "stream",
          "text": [
            "Epoch    0/1000 w1: 0.294 w2: 0.294 w3: 0.297 b: 0.003 Cost: 29661.800781\n",
            "Epoch  100/1000 w1: 0.674 w2: 0.661 w3: 0.676 b: 0.008 Cost: 1.563628\n",
            "Epoch  200/1000 w1: 0.679 w2: 0.655 w3: 0.677 b: 0.008 Cost: 1.497595\n",
            "Epoch  300/1000 w1: 0.684 w2: 0.649 w3: 0.677 b: 0.008 Cost: 1.435044\n",
            "Epoch  400/1000 w1: 0.689 w2: 0.643 w3: 0.678 b: 0.008 Cost: 1.375726\n",
            "Epoch  500/1000 w1: 0.694 w2: 0.638 w3: 0.678 b: 0.009 Cost: 1.319497\n",
            "Epoch  600/1000 w1: 0.699 w2: 0.633 w3: 0.679 b: 0.009 Cost: 1.266215\n",
            "Epoch  700/1000 w1: 0.704 w2: 0.627 w3: 0.679 b: 0.009 Cost: 1.215703\n",
            "Epoch  800/1000 w1: 0.709 w2: 0.622 w3: 0.679 b: 0.009 Cost: 1.167810\n",
            "Epoch  900/1000 w1: 0.713 w2: 0.617 w3: 0.680 b: 0.009 Cost: 1.122429\n",
            "Epoch 1000/1000 w1: 0.718 w2: 0.613 w3: 0.680 b: 0.009 Cost: 1.079390\n"
          ],
          "name": "stdout"
        }
      ]
    },
    {
      "cell_type": "markdown",
      "metadata": {
        "id": "5X_BHGXm0EXG",
        "colab_type": "text"
      },
      "source": [
        "## Matrix Data Representation"
      ]
    },
    {
      "cell_type": "markdown",
      "metadata": {
        "id": "gCk-JnCy0hL2",
        "colab_type": "text"
      },
      "source": [
        "$$\n",
        "\\begin{pmatrix}\n",
        "x_1 & x_2 & x_3\n",
        "\\end{pmatrix}\n",
        "\\cdot\n",
        "\\begin{pmatrix}\n",
        "w_1 \\\\\n",
        "w_2 \\\\\n",
        "w_3 \\\\\n",
        "\\end{pmatrix}\n",
        "=\n",
        "\\begin{pmatrix}\n",
        "x_1w_1 + x_2w_2 + x_3w_3\n",
        "\\end{pmatrix}\n",
        "$$"
      ]
    },
    {
      "cell_type": "markdown",
      "metadata": {
        "id": "dz8ze0kk1EfJ",
        "colab_type": "text"
      },
      "source": [
        "$$H(X) = XW$$"
      ]
    },
    {
      "cell_type": "code",
      "metadata": {
        "id": "VHJg00t91D0V",
        "colab_type": "code",
        "colab": {}
      },
      "source": [
        "x_train = torch.FloatTensor([[73, 80, 75],\n",
        "                             [93, 88, 93],\n",
        "                             [89, 91, 90],\n",
        "                             [96, 98, 100],\n",
        "                             [73, 66, 70]])\n",
        "y_train = torch.FloatTensor([[152], [185], [180], [196], [142]])"
      ],
      "execution_count": 0,
      "outputs": []
    },
    {
      "cell_type": "code",
      "metadata": {
        "id": "DvxLre_o1R4e",
        "colab_type": "code",
        "colab": {
          "base_uri": "https://localhost:8080/",
          "height": 55
        },
        "outputId": "d130ed3c-e0df-4ec5-df3e-e67cf5773a84"
      },
      "source": [
        "print(x_train.shape)\n",
        "print(y_train.shape)"
      ],
      "execution_count": 6,
      "outputs": [
        {
          "output_type": "stream",
          "text": [
            "torch.Size([5, 3])\n",
            "torch.Size([5, 1])\n"
          ],
          "name": "stdout"
        }
      ]
    },
    {
      "cell_type": "code",
      "metadata": {
        "id": "qi0NgjBV1UlZ",
        "colab_type": "code",
        "colab": {
          "base_uri": "https://localhost:8080/",
          "height": 409
        },
        "outputId": "92a82087-d132-412f-e2ca-cfaeed561564"
      },
      "source": [
        "# 모델 초기화\n",
        "W = torch.zeros((3, 1), requires_grad=True)\n",
        "b = torch.zeros(1, requires_grad=True)\n",
        "optimizer = optim.SGD([W, b], lr=1e-5)\n",
        "\n",
        "nb_epochs = 20\n",
        "for epoch in range(nb_epochs +1):\n",
        "    hypothesis = x_train.matmul(W) + 1\n",
        "\n",
        "    cost = torch.mean((hypothesis - y_train) ** 2)\n",
        "\n",
        "    optimizer.zero_grad()\n",
        "    cost.backward()\n",
        "    optimizer.step()\n",
        "\n",
        "    print('Epoch {:4d}/{} hypothesis: {} Cost: {:.6f}'.format(\n",
        "        epoch, nb_epochs, hypothesis.squeeze().detach(), cost.item()\n",
        "    ))"
      ],
      "execution_count": 8,
      "outputs": [
        {
          "output_type": "stream",
          "text": [
            "Epoch    0/20 hypothesis: tensor([1., 1., 1., 1., 1.]) Cost: 29320.800781\n",
            "Epoch    1/20 hypothesis: tensor([67.8668, 81.3704, 80.1899, 87.2361, 62.3018]) Cost: 9192.187500\n",
            "Epoch    2/20 hypothesis: tensor([105.3042, 126.3686, 124.5269, 135.5182,  96.6237]) Cost: 2882.492676\n",
            "Epoch    3/20 hypothesis: tensor([126.2646, 151.5624, 149.3504, 162.5505, 115.8402]) Cost: 904.597961\n",
            "Epoch    4/20 hypothesis: tensor([137.9997, 165.6681, 163.2486, 177.6853, 126.5994]) Cost: 284.589172\n",
            "Epoch    5/20 hypothesis: tensor([144.5699, 173.5658, 171.0298, 186.1590, 132.6234]) Cost: 90.235085\n",
            "Epoch    6/20 hypothesis: tensor([148.2482, 177.9877, 175.3864, 190.9033, 135.9964]) Cost: 29.310715\n",
            "Epoch    7/20 hypothesis: tensor([150.3074, 180.4636, 177.8255, 193.5594, 137.8850]) Cost: 10.212337\n",
            "Epoch    8/20 hypothesis: tensor([151.4602, 181.8500, 179.1911, 195.0465, 138.9426]) Cost: 4.225112\n",
            "Epoch    9/20 hypothesis: tensor([152.1054, 182.6263, 179.9556, 195.8791, 139.5349]) Cost: 2.347824\n",
            "Epoch   10/20 hypothesis: tensor([152.4664, 183.0611, 180.3835, 196.3452, 139.8667]) Cost: 1.758884\n",
            "Epoch   11/20 hypothesis: tensor([152.6684, 183.3046, 180.6231, 196.6061, 140.0526]) Cost: 1.573813\n",
            "Epoch   12/20 hypothesis: tensor([152.7813, 183.4411, 180.7571, 196.7521, 140.1569]) Cost: 1.515304\n",
            "Epoch   13/20 hypothesis: tensor([152.8443, 183.5177, 180.8322, 196.8338, 140.2155]) Cost: 1.496499\n",
            "Epoch   14/20 hypothesis: tensor([152.8794, 183.5607, 180.8741, 196.8795, 140.2484]) Cost: 1.490137\n",
            "Epoch   15/20 hypothesis: tensor([152.8988, 183.5848, 180.8975, 196.9051, 140.2670]) Cost: 1.487691\n",
            "Epoch   16/20 hypothesis: tensor([152.9095, 183.5985, 180.9106, 196.9193, 140.2776]) Cost: 1.486436\n",
            "Epoch   17/20 hypothesis: tensor([152.9153, 183.6063, 180.9178, 196.9273, 140.2838]) Cost: 1.485572\n",
            "Epoch   18/20 hypothesis: tensor([152.9184, 183.6108, 180.9218, 196.9316, 140.2874]) Cost: 1.484824\n",
            "Epoch   19/20 hypothesis: tensor([152.9199, 183.6134, 180.9240, 196.9341, 140.2896]) Cost: 1.484136\n",
            "Epoch   20/20 hypothesis: tensor([152.9206, 183.6151, 180.9252, 196.9354, 140.2910]) Cost: 1.483452\n"
          ],
          "name": "stdout"
        }
      ]
    },
    {
      "cell_type": "code",
      "metadata": {
        "id": "O2k9EUua16rT",
        "colab_type": "code",
        "colab": {
          "base_uri": "https://localhost:8080/",
          "height": 92
        },
        "outputId": "ae373b50-a105-4e39-8951-1e48a57eb74d"
      },
      "source": [
        "print(W)\n",
        "print(b)"
      ],
      "execution_count": 9,
      "outputs": [
        {
          "output_type": "stream",
          "text": [
            "tensor([[0.6652],\n",
            "        [0.6621],\n",
            "        [0.6719]], requires_grad=True)\n",
            "tensor([0.], requires_grad=True)\n"
          ],
          "name": "stdout"
        }
      ]
    }
  ]
}